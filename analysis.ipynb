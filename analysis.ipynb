{
 "cells": [
  {
   "cell_type": "markdown",
   "metadata": {},
   "source": [
    "* PATHL=/home/asif/Code/Godhuli/superstore_sales_analysis/Data/superstore.csv\n",
    "* PATHW=/superstore_sales_analysis/Data/superstore.csv\n",
    "* Dataset link = https://www.kaggle.com/datasets/zafarali27/car-price-prediction"
   ]
  },
  {
   "cell_type": "code",
   "execution_count": null,
   "metadata": {
    "vscode": {
     "languageId": "plaintext"
    }
   },
   "outputs": [],
   "source": []
  }
 ],
 "metadata": {
  "language_info": {
   "name": "python"
  }
 },
 "nbformat": 4,
 "nbformat_minor": 2
}
