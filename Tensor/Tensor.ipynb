{
 "cells": [
  {
   "cell_type": "code",
   "execution_count": 1,
   "id": "50e5c38e",
   "metadata": {},
   "outputs": [],
   "source": [
    "import math\n",
    "\n",
    "\n",
    "class Tensor:\n",
    "    def __init__(self, data, _children=(), _op=\"\", requires_grad=True):\n",
    "        self.data = data  # The scalar or vector value\n",
    "        self.grad = 0.0  # Gradient wrt\n",
    "        self._backward = lambda: None  # Function to backpropagate\n",
    "        self._prev = set(_children)  # Track previous tensors\n",
    "        self._op = _op  # Operation name (for debugging)\n",
    "        self.requires_grad = requires_grad  # Flag to track gradients\n",
    "\n",
    "    def __repr__(self):\n",
    "        return f\"Tensor (data={self.data}, grad={self.grad})\"\n",
    "\n",
    "    def __add__(self, other):\n",
    "        other = other if isinstance(other, Tensor) else Tensor(other)\n",
    "        out = Tensor(self.data + other.data, (self, other), \"+\")\n",
    "\n",
    "        def _backward():\n",
    "            if self.requires_grad:\n",
    "                self.grad += out.grad\n",
    "            if other.requires_grad:\n",
    "                other.grad += out.grad\n",
    "\n",
    "        out._backward = _backward\n",
    "        return out\n",
    "\n",
    "    def __radd__(self, other):\n",
    "        return self + other\n",
    "\n",
    "    def __neg__(self):\n",
    "        return self * -1\n",
    "\n",
    "    def __sub__(self, other):\n",
    "        return self + (-other)\n",
    "\n",
    "    def __rsub__(self, other):\n",
    "        return other + (-self)\n",
    "\n",
    "    def __mul__(self, other):\n",
    "        other = other if isinstance(other, Tensor) else Tensor(other)\n",
    "        out = Tensor(self.data * other.data, (self, other), \"*\")\n",
    "\n",
    "        def _backward():\n",
    "            if self.requires_grad:\n",
    "                self.grad += other.data * out.grad\n",
    "            if other.requires_grad:\n",
    "                other.grad += self.data * out.grad\n",
    "\n",
    "        out._backward = _backward\n",
    "        return out\n",
    "\n",
    "    def __rmul__(self, other):\n",
    "        return self * other\n",
    "\n",
    "    def __truediv__(self, other):\n",
    "        return self * other**-1\n",
    "\n",
    "    def __pow__(self, power):\n",
    "        assert isinstance(power, (int, float)), \"Only supports int/float powers.\"\n",
    "        out = Tensor(self.data**power, (self,), f\"**{power}\")\n",
    "\n",
    "        def _backward():\n",
    "            if self.requires_grad:\n",
    "                self.grad += (power * self.data ** (power - 1)) * out.grad\n",
    "\n",
    "        out._backward = _backward\n",
    "        return out\n",
    "\n",
    "    def relu(self):\n",
    "        out = Tensor(self.data if self.data > 0 else 0, (self,), \"ReLU\")\n",
    "\n",
    "        def _backward():\n",
    "            if self.requires_grad:\n",
    "                self.grad += (out.data > 0) * out.grad\n",
    "\n",
    "        out._backward = _backward\n",
    "        return out\n",
    "\n",
    "    def tanh(self):\n",
    "        x = self.data\n",
    "        t = (math.exp(2 * x) - 1) / (math.exp(2 * x) + 1)\n",
    "        out = Tensor(t, (self,), \"tanh\")\n",
    "\n",
    "        def _backward():\n",
    "            if self.requires_grad:\n",
    "                self.grad += (1 - t**2) * out.grad\n",
    "\n",
    "        out._backward = _backward\n",
    "        return out\n",
    "\n",
    "    def backward(self):\n",
    "        topo = []\n",
    "        visited = set()\n",
    "\n",
    "        def build_topo(t):\n",
    "            if t not in visited:\n",
    "                visited.add(t)\n",
    "                for child in t._prev:\n",
    "                    build_topo(child)\n",
    "                topo.append(t)\n",
    "\n",
    "        build_topo(self)\n",
    "        self.grad = 1.0\n",
    "        for node in reversed(topo):\n",
    "            node._backward()"
   ]
  },
  {
   "cell_type": "code",
   "execution_count": 2,
   "id": "9039da35",
   "metadata": {},
   "outputs": [
    {
     "name": "stdout",
     "output_type": "stream",
     "text": [
      "2.0, 7.75\n",
      "3.0, 1.5\n",
      "8.5, 1.0\n"
     ]
    }
   ],
   "source": [
    "a = Tensor(2.0)\n",
    "b = Tensor(3.0)\n",
    "c = a * b + a**2 - b / a\n",
    "d = c.relu()\n",
    "d.backward()\n",
    "\n",
    "print(f\"{a.data}, {a.grad}\")\n",
    "print(f\"{b.data}, {b.grad}\")\n",
    "print(f\"{d.data}, {d.grad}\")"
   ]
  },
  {
   "cell_type": "markdown",
   "id": "0c998f41",
   "metadata": {},
   "source": [
    "### Building Layers: Neuron, Layer, MLP\n",
    "*  Neuron : A sing;e fully connected unit : output = wights * inoput + bias\n",
    "*  Layer : A list of neurond working together on an input vector \n",
    "*  MLP : A multi-layer perceptron composed if stacked layers"
   ]
  },
  {
   "cell_type": "code",
   "execution_count": 4,
   "id": "b5dab4e3",
   "metadata": {},
   "outputs": [],
   "source": [
    "import random \n",
    "from typing import List\n",
    "\n",
    "class Neuron:\n",
    "\tdef __init__(self, nin: int):\n",
    "\t\tself.w = [Tensor(random.uniform(-1, 1)) for _ in range(nin)]\n",
    "\t\tself.b = Tensor(0.0)\n",
    "\n",
    "\tdef __call__(self, x: List[Tensor]):\n",
    "\t\tact = sum((wi * xi for wi, xi in zip(self.w, x)), self.b)\n",
    "\t\treturn act.relu() # Using ReLU for hidden layers\n",
    "\t\n",
    "\tdef parameters(self):\n",
    "\t\treturn self.w + [self.b]\n",
    "\t\n",
    "class Layer:\n",
    "\tdef __init__(self, nin: int, nout:int):\n",
    "\t\tself.neurons = [Neuron(nin) for _ in range(nout)]\n",
    "\t\t\n",
    "\tdef __call__(self, x: List[Tensor]):\n",
    "\t\tout = [n(x) for n in self.neurons]\n",
    "\t\treturn out\n",
    "\tdef parameters(self):\n",
    "\t\treturn [p for neuron in self.neurons for p in neuron.parameters()]\n",
    "\t\n",
    "class MLP:\n",
    "\tdef __init__(self, nin: int, nouts: List[int]):\n",
    "\t\tsz = [nin] + nouts \n",
    "\t\tself.layers = [Layer(sz[i], sz[i+1]) for i in range(len(nouts))]\n",
    "\n",
    "\tdef __call__(self, x: List[Tensor]):\n",
    "\t\tfor layer in self.layers:\n",
    "\t\t\tx = layer(x)\n",
    "\t\treturn x[0] # Single output neuron (regression)\n",
    "\t\n",
    "\tdef parameters(self):\n",
    "\t\treturn [p for layer in self.layers for p in layer.parameters()]\n",
    "\t"
   ]
  },
  {
   "cell_type": "code",
   "execution_count": 14,
   "id": "e4e32669",
   "metadata": {},
   "outputs": [],
   "source": [
    "def mse_loss(predicted, target):\n",
    "\n",
    "    if isinstance(predicted, Tensor):  # Single output case\n",
    "        return (predicted - target) * (predicted - target)\n",
    "    # predicted and target are lists of Tensor\n",
    "    losses = [(p - t) * (p - t) for p, t in zip(predicted, target)]\n",
    "    return sum(losses, Tensor(0.0)) * (1/ len(losses))"
   ]
  },
  {
   "cell_type": "code",
   "execution_count": null,
   "id": "a98a3142",
   "metadata": {},
   "outputs": [
    {
     "name": "stdout",
     "output_type": "stream",
     "text": [
      "Loss 1.0\n",
      "0\n"
     ]
    }
   ],
   "source": [
    "# Input vector: 3 features\n",
    "x = [Tensor(0.5), Tensor(-1.2), Tensor(0.3)]\n",
    "y_true = [Tensor(1.0)]\n",
    "\n",
    "# MLP with 1 hidden layers of 4 neurons, 1 output neuron\n",
    "mlp = MLP(3, [4, 1])\n",
    "\n",
    "# forward pass\n",
    "y_pred = mlp(x)\n",
    "\n",
    "# Compute the loss \n",
    "loss = mse_loss([y_pred], y_true)\n",
    "print(\"Loss\", loss.data)\n",
    "\n",
    "# backward pass (just for test, assume we want to minimize y )\n",
    "loss.backward()\n",
    "\n",
    "# Gradient descent step\n",
    "learning_rate = 0.01\n",
    "for p in mlp.parameters():\n",
    "    p.data -= learning_rate * p.grad\n",
    "    "
   ]
  },
  {
   "cell_type": "markdown",
   "id": "42a4eb69",
   "metadata": {},
   "source": [
    "#### Train Loop Example:"
   ]
  },
  {
   "cell_type": "code",
   "execution_count": 59,
   "id": "206cca5d",
   "metadata": {},
   "outputs": [
    {
     "name": "stdout",
     "output_type": "stream",
     "text": [
      "Epoch 0: Loss = 2.5249315234344487e-08, Prediction = 0.9998410996688665\n",
      "Epoch 100: Loss = 4.5590420141436766e-09, Prediction = 0.9999324793215811\n",
      "Epoch 200: Loss = 8.231406294816827e-10, Prediction = 0.9999713095725113\n",
      "Epoch 300: Loss = 1.486156267210169e-10, Prediction = 0.9999878091990944\n",
      "Epoch 400: Loss = 2.683185290802097e-11, Prediction = 0.9999948200528084\n",
      "Epoch 500: Loss = 4.844344780880429e-12, Prediction = 0.9999977990127713\n",
      "Epoch 600: Loss = 8.746184972714769e-13, Prediction = 0.9999990647895973\n",
      "Epoch 700: Loss = 1.5790720404878316e-13, Prediction = 0.9999996026246056\n",
      "Epoch 800: Loss = 2.8509204074097876e-14, Prediction = 0.9999998311533119\n",
      "Epoch 900: Loss = 5.147166085700861e-15, Prediction = 0.9999999282562471\n"
     ]
    }
   ],
   "source": [
    "for epoch in range(1000):\n",
    "    y_pred = mlp(x)\n",
    "    loss = mse_loss([y_pred], y_true)\n",
    "\n",
    "    # Zero gradients\n",
    "    for p in mlp.parameters():\n",
    "        p.grad = 0.0 \n",
    "\n",
    "    # Backward pass\n",
    "    loss.backward()\n",
    "\n",
    "    # Update weights\n",
    "    for p in mlp.parameters():\n",
    "        p.data -= learning_rate * p.grad\n",
    "\n",
    "    if epoch % 100 == 0:\n",
    "        print(f\"Epoch {epoch}: Loss = {loss.data}, Prediction = {y_pred.data}\")"
   ]
  },
  {
   "cell_type": "code",
   "execution_count": 60,
   "id": "3598025e",
   "metadata": {},
   "outputs": [
    {
     "name": "stdout",
     "output_type": "stream",
     "text": [
      "Epoch 0: Loss = 0.8574, Prediction = 0.0740\n",
      "Epoch 100: Loss = 0.1957, Prediction = 0.5576\n",
      "Epoch 200: Loss = 0.0416, Prediction = 0.7961\n",
      "Epoch 300: Loss = 0.0081, Prediction = 0.9101\n",
      "Epoch 400: Loss = 0.0015, Prediction = 0.9615\n",
      "Epoch 500: Loss = 0.0003, Prediction = 0.9837\n",
      "Epoch 600: Loss = 0.0000, Prediction = 0.9932\n",
      "Epoch 700: Loss = 0.0000, Prediction = 0.9971\n",
      "Epoch 800: Loss = 0.0000, Prediction = 0.9988\n",
      "Epoch 900: Loss = 0.0000, Prediction = 0.9995\n"
     ]
    }
   ],
   "source": [
    "# Input and target\n",
    "x = [Tensor(0.5), Tensor(-1.2), Tensor(0.3)]\n",
    "y_true = [Tensor(1.0)]\n",
    "\n",
    "# Initialize model\n",
    "mlp = MLP(3, [4, 1])\n",
    "learning_rate = 0.001\n",
    "losses = []\n",
    "\n",
    "# Train for 1000 epochs\n",
    "for epoch in range(1000):\n",
    "    # Forward pass\n",
    "    y_pred = mlp(x)\n",
    "    loss = mse_loss([y_pred], y_true)\n",
    "    losses.append(loss.data)  # Record loss value\n",
    "\n",
    "    # Zero gradients\n",
    "    for p in mlp.parameters():\n",
    "        p.grad = 0.0\n",
    "\n",
    "    # Backward pass\n",
    "    loss.backward()\n",
    "\n",
    "    # Gradient descent step\n",
    "    for p in mlp.parameters():\n",
    "        p.data -= learning_rate * p.grad\n",
    "\n",
    "    # Optional: print every 100 steps\n",
    "    if epoch % 100 == 0:\n",
    "        print(f\"Epoch {epoch}: Loss = {loss.data:.4f}, Prediction = {y_pred.data:.4f}\")"
   ]
  },
  {
   "cell_type": "code",
   "execution_count": 61,
   "id": "d6132ee4",
   "metadata": {},
   "outputs": [
    {
     "data": {
      "image/png": "[encoded data removed]",
      "text/plain": [
       "<Figure size 640x480 with 1 Axes>"
      ]
     },
     "metadata": {},
     "output_type": "display_data"
    }
   ],
   "source": [
    "import matplotlib.pyplot as plt\n",
    "\n",
    "plt.plot(losses)\n",
    "plt.xlabel(\"Epoch\")\n",
    "plt.ylabel(\"Loss\")\n",
    "plt.title(\"Loss Over Time\")\n",
    "plt.grid(True)\n",
    "plt.show()"
   ]
  }
 ],
 "metadata": {
  "kernelspec": {
   "display_name": "envAI",
   "language": "python",
   "name": "python3"
  },
  "language_info": {
   "codemirror_mode": {
    "name": "ipython",
    "version": 3
   },
   "file_extension": ".py",
   "mimetype": "text/x-python",
   "name": "python",
   "nbconvert_exporter": "python",
   "pygments_lexer": "ipython3",
   "version": "3.12.2"
  }
 },
 "nbformat": 4,
 "nbformat_minor": 5
}
